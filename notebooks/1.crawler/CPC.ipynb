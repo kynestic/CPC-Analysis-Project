{
 "cells": [
  {
   "cell_type": "code",
   "execution_count": 1,
   "metadata": {},
   "outputs": [],
   "source": [
    "import selenium\n",
    "import pandas as pd\n",
    "from selenium import webdriver \n",
    "from selenium.webdriver import ChromeOptions\n",
    "from selenium.webdriver.common.by import By\n",
    "from selenium.webdriver.support.ui import WebDriverWait\n",
    "from selenium.webdriver.support import expected_conditions as EC\n",
    "from bs4 import BeautifulSoup\n"
   ]
  },
  {
   "cell_type": "code",
   "execution_count": 2,
   "metadata": {},
   "outputs": [],
   "source": [
    "driver = webdriver.Chrome()\n"
   ]
  },
  {
   "cell_type": "code",
   "execution_count": 14,
   "metadata": {},
   "outputs": [],
   "source": [
    "driver.get(\"https://www.wordstream.com/blog/2024-google-ads-benchmarks\")"
   ]
  },
  {
   "cell_type": "code",
   "execution_count": 15,
   "metadata": {},
   "outputs": [],
   "source": [
    "html_content= '''\n",
    "<table width=\"387\">\n",
    "<tbody>\n",
    "<tr>\n",
    "<td width=\"299\"><strong>Business category</strong></td>\n",
    "<td width=\"88\"><strong>Avg. CPC</strong></td>\n",
    "</tr>\n",
    "<tr>\n",
    "<td width=\"299\">Animals &amp; Pets</td>\n",
    "<td width=\"88\">&nbsp;$3.90</td>\n",
    "</tr>\n",
    "<tr>\n",
    "<td width=\"299\">Apparel / Fashion &amp; Jewelry</td>\n",
    "<td width=\"88\">&nbsp;$3.39</td>\n",
    "</tr>\n",
    "<tr>\n",
    "<td width=\"299\">Arts &amp; Entertainment</td>\n",
    "<td width=\"88\">&nbsp;$1.72</td>\n",
    "</tr>\n",
    "<tr>\n",
    "<td width=\"299\">Attorneys &amp; Legal Services</td>\n",
    "<td width=\"88\">&nbsp;$8.94</td>\n",
    "</tr>\n",
    "<tr>\n",
    "<td width=\"299\">Automotive — For Sale</td>\n",
    "<td width=\"88\">&nbsp;$2.34</td>\n",
    "</tr>\n",
    "<tr>\n",
    "<td width=\"299\">Automotive — Repair, Service &amp; Parts</td>\n",
    "<td width=\"88\">&nbsp;$3.39</td>\n",
    "</tr>\n",
    "<tr>\n",
    "<td width=\"299\">Beauty &amp; Personal Care</td>\n",
    "<td width=\"88\">&nbsp;$3.56</td>\n",
    "</tr>\n",
    "<tr>\n",
    "<td width=\"299\">Business Services</td>\n",
    "<td width=\"88\">&nbsp;$5.37</td>\n",
    "</tr>\n",
    "<tr>\n",
    "<td width=\"299\">Career &amp; Employment</td>\n",
    "<td width=\"88\">&nbsp;$4.53</td>\n",
    "</tr>\n",
    "<tr>\n",
    "<td width=\"299\">Dentists &amp; Dental Services</td>\n",
    "<td width=\"88\">&nbsp;$6.82</td>\n",
    "</tr>\n",
    "<tr>\n",
    "<td width=\"299\">Education &amp; Instruction</td>\n",
    "<td width=\"88\">&nbsp;$4.39</td>\n",
    "</tr>\n",
    "<tr>\n",
    "<td width=\"299\">Finance &amp; Insurance</td>\n",
    "<td width=\"88\">&nbsp;$3.00</td>\n",
    "</tr>\n",
    "<tr>\n",
    "<td width=\"299\">Furniture</td>\n",
    "<td width=\"88\">&nbsp;$3.29</td>\n",
    "</tr>\n",
    "<tr>\n",
    "<td width=\"299\">Health &amp; Fitness</td>\n",
    "<td width=\"88\">&nbsp;$4.71</td>\n",
    "</tr>\n",
    "<tr>\n",
    "<td width=\"299\">Home &amp; Home Improvement</td>\n",
    "<td width=\"88\">&nbsp;$6.96</td>\n",
    "</tr>\n",
    "<tr>\n",
    "<td width=\"299\">Industrial &amp; Commercial</td>\n",
    "<td width=\"88\">&nbsp;$4.95</td>\n",
    "</tr>\n",
    "<tr>\n",
    "<td width=\"299\">Personal Services</td>\n",
    "<td width=\"88\">&nbsp;$4.95</td>\n",
    "</tr>\n",
    "<tr>\n",
    "<td width=\"299\">Physicians &amp; Surgeons</td>\n",
    "<td width=\"88\">&nbsp;$4.76</td>\n",
    "</tr>\n",
    "<tr>\n",
    "<td width=\"299\">Real Estate</td>\n",
    "<td width=\"88\">&nbsp;$2.10</td>\n",
    "</tr>\n",
    "<tr>\n",
    "<td width=\"299\">Restaurants &amp; Food</td>\n",
    "<td width=\"88\">&nbsp;$2.18</td>\n",
    "</tr>\n",
    "<tr>\n",
    "<td width=\"299\">Shopping, Collectibles &amp; Gifts</td>\n",
    "<td width=\"88\">&nbsp;$2.61</td>\n",
    "</tr>\n",
    "<tr>\n",
    "<td width=\"299\">Sports &amp; Recreation</td>\n",
    "<td width=\"88\">&nbsp;$2.34</td>\n",
    "</tr>\n",
    "<tr>\n",
    "<td width=\"299\">Travel</td>\n",
    "<td width=\"88\">&nbsp;$1.92</td>\n",
    "</tr>\n",
    "</tbody>\n",
    "</table>\n",
    "'''"
   ]
  },
  {
   "cell_type": "code",
   "execution_count": 21,
   "metadata": {},
   "outputs": [
    {
     "data": {
      "text/html": [
       "<div>\n",
       "<style scoped>\n",
       "    .dataframe tbody tr th:only-of-type {\n",
       "        vertical-align: middle;\n",
       "    }\n",
       "\n",
       "    .dataframe tbody tr th {\n",
       "        vertical-align: top;\n",
       "    }\n",
       "\n",
       "    .dataframe thead th {\n",
       "        text-align: right;\n",
       "    }\n",
       "</style>\n",
       "<table border=\"1\" class=\"dataframe\">\n",
       "  <thead>\n",
       "    <tr style=\"text-align: right;\">\n",
       "      <th></th>\n",
       "      <th>Business Category</th>\n",
       "      <th>CPC Average</th>\n",
       "    </tr>\n",
       "  </thead>\n",
       "  <tbody>\n",
       "  </tbody>\n",
       "</table>\n",
       "</div>"
      ],
      "text/plain": [
       "Empty DataFrame\n",
       "Columns: [Business Category, CPC Average]\n",
       "Index: []"
      ]
     },
     "execution_count": 21,
     "metadata": {},
     "output_type": "execute_result"
    }
   ],
   "source": [
    "# Parse HTML\n",
    "soup = BeautifulSoup(html_content, 'html.parser')\n",
    "\n",
    "# Extracting valuesz\n",
    "data = []\n",
    "rows = soup.find_all('tr', class_='bc-row')\n",
    "for row in rows:\n",
    "    label = row.find('tr', class_='bc-row-label').get_text(strip=True)\n",
    "    value = row.find('tr', class_='bc-bar-label').get_text(strip=True)\n",
    "    data.append((label, value))\n",
    "\n",
    "# Create a DataFrame\n",
    "df = pd.DataFrame(data, columns=['Business Category', 'CPC Average'])\n",
    "df"
   ]
  },
  {
   "cell_type": "code",
   "execution_count": 1,
   "metadata": {},
   "outputs": [],
   "source": [
    "import pandas as pd\n",
    "df1 = pd.read_csv('D:/code-python/CPC/NVIDIA-Stock-prediction/data/raw/stocknews.csv')\n",
    "df2 = pd.read_csv('D:/code-python/CPC/NVIDIA-Stock-prediction/data/raw/stockPrice.csv')\n",
    "\n",
    "df1['timestamp'] = pd.to_datetime(df1['timestamp'])\n",
    "df2['date'] = pd.to_datetime(df2['date'])\n",
    "df_merged = pd.merge(df1, df2, left_on='timestamp', right_on='date', how='inner')\n"
   ]
  },
  {
   "cell_type": "code",
   "execution_count": 2,
   "metadata": {},
   "outputs": [],
   "source": [
    "del df_merged['date']"
   ]
  }
 ],
 "metadata": {
  "kernelspec": {
   "display_name": "test-env",
   "language": "python",
   "name": "python3"
  },
  "language_info": {
   "codemirror_mode": {
    "name": "ipython",
    "version": 3
   },
   "file_extension": ".py",
   "mimetype": "text/x-python",
   "name": "python",
   "nbconvert_exporter": "python",
   "pygments_lexer": "ipython3",
   "version": "3.8.19"
  }
 },
 "nbformat": 4,
 "nbformat_minor": 2
}
