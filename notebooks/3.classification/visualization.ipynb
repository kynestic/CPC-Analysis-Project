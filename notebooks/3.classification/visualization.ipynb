{
 "cells": [
  {
   "cell_type": "markdown",
   "metadata": {},
   "source": [
    "This is the template for reducing dimension to display clusters after applying Kmeans"
   ]
  },
  {
   "cell_type": "code",
   "execution_count": null,
   "metadata": {},
   "outputs": [],
   "source": [
    "#template for visualization\n",
    "from sklearn.preprocessing import StandardScaler\n",
    "from sklearn.metrics import silhouette_score\n",
    "import pandas as pd\n",
    "from sklearn.cluster import KMeans\n",
    "import numpy as np\n",
    "import matplotlib.pyplot as plt\n",
    "from sklearn.manifold import TSNE\n",
    "import seaborn as sns  # For better color palettes\n",
    "\n",
    "# Load your BERT embeddings data\n",
    "df = pd.read_csv(r'D:\\CODING\\Project\\NVIDIA Stock prediction\\data\\synthesis\\embedding\\BERT_EmbeddingText.csv')\n",
    "data = df.drop('timestamp', axis=1)\n",
    "\n",
    "# Standardize the data\n",
    "data = pd.DataFrame(StandardScaler().fit_transform(data))\n",
    "\n",
    "# Perform K-Means clustering\n",
    "n_clusters = 5  # Set the number of clusters\n",
    "model = KMeans(n_clusters=n_clusters, random_state=42)\n",
    "model.fit(data)\n",
    "\n",
    "# Calculate silhouette score\n",
    "silhouette_avg = silhouette_score(data, model.labels_)\n",
    "print(f'Silhouette Score: {silhouette_avg:.3f}')\n",
    "\n",
    "# Add cluster labels to the original DataFrame\n",
    "new_data = pd.DataFrame()\n",
    "new_data['Cluster'] = model.labels_\n",
    "new_data['timestamp'] = df['timestamp']\n",
    "new_data.to_csv(r'BERT_EmbeddingText_classification.csv', index=False)\n",
    "\n",
    "# Dimensionality reduction for visualization using t-SNE\n",
    "tsne = TSNE(n_components=2, random_state=42)\n",
    "tsne_results = tsne.fit_transform(data)\n",
    "\n",
    "# Create a DataFrame for t-SNE results\n",
    "tsne_df = pd.DataFrame(tsne_results, columns=['Component 1', 'Component 2'])\n",
    "tsne_df['Cluster'] = new_data['Cluster']\n",
    "\n",
    "# Create a color palette\n",
    "palette = sns.color_palette(\"husl\", n_clusters)  # Generates a palette with distinct colors\n",
    "\n",
    "# Create a scatter plot with different colors for each cluster\n",
    "plt.figure(figsize=(12, 8))\n",
    "for cluster in range(n_clusters):\n",
    "    subset = tsne_df[tsne_df['Cluster'] == cluster]\n",
    "    plt.scatter(subset['Component 1'], subset['Component 2'],\n",
    "                label=f'Cluster {cluster}',\n",
    "                color=palette[cluster],  # Unique color for each cluster\n",
    "                alpha=0.6,\n",
    "                edgecolor='w')  # Optional: white edge color for better visibility\n",
    "\n",
    "# Customize the plot\n",
    "plt.title('t-SNE Visualization of BERT Embeddings Clusters', fontsize=16)\n",
    "plt.xlabel('t-SNE Component 1', fontsize=14)\n",
    "plt.ylabel('t-SNE Component 2', fontsize=14)\n",
    "plt.legend(title='Clusters', fontsize=12)\n",
    "plt.grid(True)\n",
    "plt.show()\n"
   ]
  }
 ],
 "metadata": {
  "interpreter": {
   "hash": "7e4990a11fdf590a82371ee14757fb33f9dfdebf4a57d7d20417448ac99019b2"
  },
  "kernelspec": {
   "display_name": "Python 3.12.7 ('venv': venv)",
   "language": "python",
   "name": "python3"
  },
  "language_info": {
   "codemirror_mode": {
    "name": "ipython",
    "version": 3
   },
   "file_extension": ".py",
   "mimetype": "text/x-python",
   "name": "python",
   "nbconvert_exporter": "python",
   "pygments_lexer": "ipython3",
   "version": "3.12.7"
  },
  "orig_nbformat": 4
 },
 "nbformat": 4,
 "nbformat_minor": 2
}
