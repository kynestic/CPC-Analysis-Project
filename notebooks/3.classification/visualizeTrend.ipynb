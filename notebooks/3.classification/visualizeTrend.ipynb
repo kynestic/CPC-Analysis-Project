{
 "cells": [
  {
   "cell_type": "code",
   "execution_count": null,
   "metadata": {},
   "outputs": [],
   "source": []
  },
  {
   "cell_type": "markdown",
   "metadata": {},
   "source": [
    "Group data"
   ]
  },
  {
   "cell_type": "code",
   "execution_count": 3,
   "metadata": {},
   "outputs": [
    {
     "ename": "ValueError",
     "evalue": "You are trying to merge on object and float64 columns for key 'keyword'. If you wish to proceed you should use pd.concat",
     "output_type": "error",
     "traceback": [
      "\u001b[1;31m---------------------------------------------------------------------------\u001b[0m",
      "\u001b[1;31mValueError\u001b[0m                                Traceback (most recent call last)",
      "Cell \u001b[1;32mIn[3], line 10\u001b[0m\n\u001b[0;32m      7\u001b[0m df2 \u001b[38;5;241m=\u001b[39m pd\u001b[38;5;241m.\u001b[39mread_csv(\u001b[38;5;124mr\u001b[39m\u001b[38;5;124m'\u001b[39m\u001b[38;5;124mD:\u001b[39m\u001b[38;5;124m\\\u001b[39m\u001b[38;5;124mCODING\u001b[39m\u001b[38;5;124m\\\u001b[39m\u001b[38;5;124mProject\u001b[39m\u001b[38;5;124m\\\u001b[39m\u001b[38;5;124mNVIDIA-Stock-prediction\u001b[39m\u001b[38;5;124m\\\u001b[39m\u001b[38;5;124mdata\u001b[39m\u001b[38;5;124m\\\u001b[39m\u001b[38;5;124msynthesis\u001b[39m\u001b[38;5;124m\\\u001b[39m\u001b[38;5;124mclassification\u001b[39m\u001b[38;5;124m\\\u001b[39m\u001b[38;5;124mBERT_EmbeddingText_classification.csv\u001b[39m\u001b[38;5;124m'\u001b[39m)\n\u001b[0;32m      9\u001b[0m \u001b[38;5;66;03m# Merge the DataFrames on 'keyword' and group by 'date' and 'Cluster'\u001b[39;00m\n\u001b[1;32m---> 10\u001b[0m df \u001b[38;5;241m=\u001b[39m \u001b[43mpd\u001b[49m\u001b[38;5;241;43m.\u001b[39;49m\u001b[43mmerge\u001b[49m\u001b[43m(\u001b[49m\u001b[43mdf1\u001b[49m\u001b[43m,\u001b[49m\u001b[43m \u001b[49m\u001b[43mdf2\u001b[49m\u001b[43m,\u001b[49m\u001b[43m \u001b[49m\u001b[43mleft_on\u001b[49m\u001b[38;5;241;43m=\u001b[39;49m\u001b[38;5;124;43m'\u001b[39;49m\u001b[38;5;124;43mkeyword\u001b[39;49m\u001b[38;5;124;43m'\u001b[39;49m\u001b[43m,\u001b[49m\u001b[43m \u001b[49m\u001b[43mright_on\u001b[49m\u001b[38;5;241;43m=\u001b[39;49m\u001b[38;5;124;43m'\u001b[39;49m\u001b[38;5;124;43mkeyword\u001b[39;49m\u001b[38;5;124;43m'\u001b[39;49m\u001b[43m,\u001b[49m\u001b[43m \u001b[49m\u001b[43mhow\u001b[49m\u001b[38;5;241;43m=\u001b[39;49m\u001b[38;5;124;43m'\u001b[39;49m\u001b[38;5;124;43minner\u001b[39;49m\u001b[38;5;124;43m'\u001b[39;49m\u001b[43m)\u001b[49m\u001b[38;5;241m.\u001b[39mgroupby(\u001b[38;5;124m'\u001b[39m\u001b[38;5;124mdate\u001b[39m\u001b[38;5;124m'\u001b[39m)\u001b[38;5;241m.\u001b[39magg({\n\u001b[0;32m     11\u001b[0m     \u001b[38;5;124m'\u001b[39m\u001b[38;5;124mcpc\u001b[39m\u001b[38;5;124m'\u001b[39m: np\u001b[38;5;241m.\u001b[39mmean,\n\u001b[0;32m     12\u001b[0m     \u001b[38;5;124m'\u001b[39m\u001b[38;5;124mkeyword\u001b[39m\u001b[38;5;124m'\u001b[39m: \u001b[38;5;28mlist\u001b[39m  \u001b[38;5;66;03m# Keeping keyword as a list, but not used for plotting\u001b[39;00m\n\u001b[0;32m     13\u001b[0m })\u001b[38;5;241m.\u001b[39mreset_index()\n\u001b[0;32m     15\u001b[0m \u001b[38;5;66;03m# Drop 'keyword' column since it's not needed for the plot\u001b[39;00m\n\u001b[0;32m     16\u001b[0m df \u001b[38;5;241m=\u001b[39m df\u001b[38;5;241m.\u001b[39mdrop(\u001b[38;5;124m'\u001b[39m\u001b[38;5;124mkeyword\u001b[39m\u001b[38;5;124m'\u001b[39m, axis\u001b[38;5;241m=\u001b[39m\u001b[38;5;241m1\u001b[39m)\n",
      "File \u001b[1;32md:\\CODING\\Project\\NVIDIA-Stock-prediction\\venv\\Lib\\site-packages\\pandas\\core\\reshape\\merge.py:170\u001b[0m, in \u001b[0;36mmerge\u001b[1;34m(left, right, how, on, left_on, right_on, left_index, right_index, sort, suffixes, copy, indicator, validate)\u001b[0m\n\u001b[0;32m    <a href='file:///d%3A/CODING/Project/NVIDIA-Stock-prediction/venv/Lib/site-packages/pandas/core/reshape/merge.py?line=154'>155</a>\u001b[0m     \u001b[39mreturn\u001b[39;00m _cross_merge(\n\u001b[0;32m    <a href='file:///d%3A/CODING/Project/NVIDIA-Stock-prediction/venv/Lib/site-packages/pandas/core/reshape/merge.py?line=155'>156</a>\u001b[0m         left_df,\n\u001b[0;32m    <a href='file:///d%3A/CODING/Project/NVIDIA-Stock-prediction/venv/Lib/site-packages/pandas/core/reshape/merge.py?line=156'>157</a>\u001b[0m         right_df,\n\u001b[1;32m   (...)\u001b[0m\n\u001b[0;32m    <a href='file:///d%3A/CODING/Project/NVIDIA-Stock-prediction/venv/Lib/site-packages/pandas/core/reshape/merge.py?line=166'>167</a>\u001b[0m         copy\u001b[39m=\u001b[39mcopy,\n\u001b[0;32m    <a href='file:///d%3A/CODING/Project/NVIDIA-Stock-prediction/venv/Lib/site-packages/pandas/core/reshape/merge.py?line=167'>168</a>\u001b[0m     )\n\u001b[0;32m    <a href='file:///d%3A/CODING/Project/NVIDIA-Stock-prediction/venv/Lib/site-packages/pandas/core/reshape/merge.py?line=168'>169</a>\u001b[0m \u001b[39melse\u001b[39;00m:\n\u001b[1;32m--> <a href='file:///d%3A/CODING/Project/NVIDIA-Stock-prediction/venv/Lib/site-packages/pandas/core/reshape/merge.py?line=169'>170</a>\u001b[0m     op \u001b[39m=\u001b[39m _MergeOperation(\n\u001b[0;32m    <a href='file:///d%3A/CODING/Project/NVIDIA-Stock-prediction/venv/Lib/site-packages/pandas/core/reshape/merge.py?line=170'>171</a>\u001b[0m         left_df,\n\u001b[0;32m    <a href='file:///d%3A/CODING/Project/NVIDIA-Stock-prediction/venv/Lib/site-packages/pandas/core/reshape/merge.py?line=171'>172</a>\u001b[0m         right_df,\n\u001b[0;32m    <a href='file:///d%3A/CODING/Project/NVIDIA-Stock-prediction/venv/Lib/site-packages/pandas/core/reshape/merge.py?line=172'>173</a>\u001b[0m         how\u001b[39m=\u001b[39;49mhow,\n\u001b[0;32m    <a href='file:///d%3A/CODING/Project/NVIDIA-Stock-prediction/venv/Lib/site-packages/pandas/core/reshape/merge.py?line=173'>174</a>\u001b[0m         on\u001b[39m=\u001b[39;49mon,\n\u001b[0;32m    <a href='file:///d%3A/CODING/Project/NVIDIA-Stock-prediction/venv/Lib/site-packages/pandas/core/reshape/merge.py?line=174'>175</a>\u001b[0m         left_on\u001b[39m=\u001b[39;49mleft_on,\n\u001b[0;32m    <a href='file:///d%3A/CODING/Project/NVIDIA-Stock-prediction/venv/Lib/site-packages/pandas/core/reshape/merge.py?line=175'>176</a>\u001b[0m         right_on\u001b[39m=\u001b[39;49mright_on,\n\u001b[0;32m    <a href='file:///d%3A/CODING/Project/NVIDIA-Stock-prediction/venv/Lib/site-packages/pandas/core/reshape/merge.py?line=176'>177</a>\u001b[0m         left_index\u001b[39m=\u001b[39;49mleft_index,\n\u001b[0;32m    <a href='file:///d%3A/CODING/Project/NVIDIA-Stock-prediction/venv/Lib/site-packages/pandas/core/reshape/merge.py?line=177'>178</a>\u001b[0m         right_index\u001b[39m=\u001b[39;49mright_index,\n\u001b[0;32m    <a href='file:///d%3A/CODING/Project/NVIDIA-Stock-prediction/venv/Lib/site-packages/pandas/core/reshape/merge.py?line=178'>179</a>\u001b[0m         sort\u001b[39m=\u001b[39;49msort,\n\u001b[0;32m    <a href='file:///d%3A/CODING/Project/NVIDIA-Stock-prediction/venv/Lib/site-packages/pandas/core/reshape/merge.py?line=179'>180</a>\u001b[0m         suffixes\u001b[39m=\u001b[39;49msuffixes,\n\u001b[0;32m    <a href='file:///d%3A/CODING/Project/NVIDIA-Stock-prediction/venv/Lib/site-packages/pandas/core/reshape/merge.py?line=180'>181</a>\u001b[0m         indicator\u001b[39m=\u001b[39;49mindicator,\n\u001b[0;32m    <a href='file:///d%3A/CODING/Project/NVIDIA-Stock-prediction/venv/Lib/site-packages/pandas/core/reshape/merge.py?line=181'>182</a>\u001b[0m         validate\u001b[39m=\u001b[39;49mvalidate,\n\u001b[0;32m    <a href='file:///d%3A/CODING/Project/NVIDIA-Stock-prediction/venv/Lib/site-packages/pandas/core/reshape/merge.py?line=182'>183</a>\u001b[0m     )\n\u001b[0;32m    <a href='file:///d%3A/CODING/Project/NVIDIA-Stock-prediction/venv/Lib/site-packages/pandas/core/reshape/merge.py?line=183'>184</a>\u001b[0m     \u001b[39mreturn\u001b[39;00m op\u001b[39m.\u001b[39mget_result(copy\u001b[39m=\u001b[39mcopy)\n",
      "File \u001b[1;32md:\\CODING\\Project\\NVIDIA-Stock-prediction\\venv\\Lib\\site-packages\\pandas\\core\\reshape\\merge.py:807\u001b[0m, in \u001b[0;36m_MergeOperation.__init__\u001b[1;34m(self, left, right, how, on, left_on, right_on, left_index, right_index, sort, suffixes, indicator, validate)\u001b[0m\n\u001b[0;32m    <a href='file:///d%3A/CODING/Project/NVIDIA-Stock-prediction/venv/Lib/site-packages/pandas/core/reshape/merge.py?line=802'>803</a>\u001b[0m \u001b[39mself\u001b[39m\u001b[39m.\u001b[39m_validate_tolerance(\u001b[39mself\u001b[39m\u001b[39m.\u001b[39mleft_join_keys)\n\u001b[0;32m    <a href='file:///d%3A/CODING/Project/NVIDIA-Stock-prediction/venv/Lib/site-packages/pandas/core/reshape/merge.py?line=804'>805</a>\u001b[0m \u001b[39m# validate the merge keys dtypes. We may need to coerce\u001b[39;00m\n\u001b[0;32m    <a href='file:///d%3A/CODING/Project/NVIDIA-Stock-prediction/venv/Lib/site-packages/pandas/core/reshape/merge.py?line=805'>806</a>\u001b[0m \u001b[39m# to avoid incompatible dtypes\u001b[39;00m\n\u001b[1;32m--> <a href='file:///d%3A/CODING/Project/NVIDIA-Stock-prediction/venv/Lib/site-packages/pandas/core/reshape/merge.py?line=806'>807</a>\u001b[0m \u001b[39mself\u001b[39;49m\u001b[39m.\u001b[39;49m_maybe_coerce_merge_keys()\n\u001b[0;32m    <a href='file:///d%3A/CODING/Project/NVIDIA-Stock-prediction/venv/Lib/site-packages/pandas/core/reshape/merge.py?line=808'>809</a>\u001b[0m \u001b[39m# If argument passed to validate,\u001b[39;00m\n\u001b[0;32m    <a href='file:///d%3A/CODING/Project/NVIDIA-Stock-prediction/venv/Lib/site-packages/pandas/core/reshape/merge.py?line=809'>810</a>\u001b[0m \u001b[39m# check if columns specified as unique\u001b[39;00m\n\u001b[0;32m    <a href='file:///d%3A/CODING/Project/NVIDIA-Stock-prediction/venv/Lib/site-packages/pandas/core/reshape/merge.py?line=810'>811</a>\u001b[0m \u001b[39m# are in fact unique.\u001b[39;00m\n\u001b[0;32m    <a href='file:///d%3A/CODING/Project/NVIDIA-Stock-prediction/venv/Lib/site-packages/pandas/core/reshape/merge.py?line=811'>812</a>\u001b[0m \u001b[39mif\u001b[39;00m validate \u001b[39mis\u001b[39;00m \u001b[39mnot\u001b[39;00m \u001b[39mNone\u001b[39;00m:\n",
      "File \u001b[1;32md:\\CODING\\Project\\NVIDIA-Stock-prediction\\venv\\Lib\\site-packages\\pandas\\core\\reshape\\merge.py:1508\u001b[0m, in \u001b[0;36m_MergeOperation._maybe_coerce_merge_keys\u001b[1;34m(self)\u001b[0m\n\u001b[0;32m   <a href='file:///d%3A/CODING/Project/NVIDIA-Stock-prediction/venv/Lib/site-packages/pandas/core/reshape/merge.py?line=1501'>1502</a>\u001b[0m     \u001b[39m# unless we are merging non-string-like with string-like\u001b[39;00m\n\u001b[0;32m   <a href='file:///d%3A/CODING/Project/NVIDIA-Stock-prediction/venv/Lib/site-packages/pandas/core/reshape/merge.py?line=1502'>1503</a>\u001b[0m     \u001b[39melif\u001b[39;00m (\n\u001b[0;32m   <a href='file:///d%3A/CODING/Project/NVIDIA-Stock-prediction/venv/Lib/site-packages/pandas/core/reshape/merge.py?line=1503'>1504</a>\u001b[0m         inferred_left \u001b[39min\u001b[39;00m string_types \u001b[39mand\u001b[39;00m inferred_right \u001b[39mnot\u001b[39;00m \u001b[39min\u001b[39;00m string_types\n\u001b[0;32m   <a href='file:///d%3A/CODING/Project/NVIDIA-Stock-prediction/venv/Lib/site-packages/pandas/core/reshape/merge.py?line=1504'>1505</a>\u001b[0m     ) \u001b[39mor\u001b[39;00m (\n\u001b[0;32m   <a href='file:///d%3A/CODING/Project/NVIDIA-Stock-prediction/venv/Lib/site-packages/pandas/core/reshape/merge.py?line=1505'>1506</a>\u001b[0m         inferred_right \u001b[39min\u001b[39;00m string_types \u001b[39mand\u001b[39;00m inferred_left \u001b[39mnot\u001b[39;00m \u001b[39min\u001b[39;00m string_types\n\u001b[0;32m   <a href='file:///d%3A/CODING/Project/NVIDIA-Stock-prediction/venv/Lib/site-packages/pandas/core/reshape/merge.py?line=1506'>1507</a>\u001b[0m     ):\n\u001b[1;32m-> <a href='file:///d%3A/CODING/Project/NVIDIA-Stock-prediction/venv/Lib/site-packages/pandas/core/reshape/merge.py?line=1507'>1508</a>\u001b[0m         \u001b[39mraise\u001b[39;00m \u001b[39mValueError\u001b[39;00m(msg)\n\u001b[0;32m   <a href='file:///d%3A/CODING/Project/NVIDIA-Stock-prediction/venv/Lib/site-packages/pandas/core/reshape/merge.py?line=1509'>1510</a>\u001b[0m \u001b[39m# datetimelikes must match exactly\u001b[39;00m\n\u001b[0;32m   <a href='file:///d%3A/CODING/Project/NVIDIA-Stock-prediction/venv/Lib/site-packages/pandas/core/reshape/merge.py?line=1510'>1511</a>\u001b[0m \u001b[39melif\u001b[39;00m needs_i8_conversion(lk\u001b[39m.\u001b[39mdtype) \u001b[39mand\u001b[39;00m \u001b[39mnot\u001b[39;00m needs_i8_conversion(rk\u001b[39m.\u001b[39mdtype):\n",
      "\u001b[1;31mValueError\u001b[0m: You are trying to merge on object and float64 columns for key 'keyword'. If you wish to proceed you should use pd.concat"
     ]
    }
   ],
   "source": [
    "import pandas as pd\n",
    "import numpy as np\n",
    "import matplotlib.pyplot as plt\n",
    "\n",
    "# Load the datasets\n",
    "df1 = pd.read_csv(r'D:\\CODING\\Project\\NVIDIA-Stock-prediction\\data\\synthesis\\data.csv')\n",
    "df2 = pd.read_csv(r'D:\\CODING\\Project\\NVIDIA-Stock-prediction\\data\\synthesis\\classification\\BERT_EmbeddingText_classification.csv')\n",
    "\n",
    "# Merge the DataFrames on 'keyword' and group by 'date' and 'Cluster'\n",
    "df = pd.merge(df1, df2, left_on='keyword', right_on='keyword', how='inner').groupby(['date', 'Cluster']).agg({\n",
    "    'cpc': np.mean,\n",
    "    'keyword': list  # Keeping keyword as a list, but not used for plotting\n",
    "}).reset_index()\n",
    "\n",
    "# Drop 'keyword' column since it's not needed for the plot\n",
    "df = df.drop('keyword', axis=1)\n",
    "\n",
    "plt.figure(figsize=(24, 8))\n",
    "\n",
    "df_pivot = df.pivot(index = 'date', columns='Cluster', values='cpc')\n",
    "\n",
    "for cluster in df_pivot.columns:\n",
    "    plt.plot(df_pivot.index, df_pivot[cluster], label=f'Cluster {cluster}')\n",
    "plt.xticks(rotation = 45)\n",
    "plt.show()\n"
   ]
  }
 ],
 "metadata": {
  "interpreter": {
   "hash": "0e6536f6d60cc0148044e0a23b751cf035e0a5fe268eecbff9754a098f69af6c"
  },
  "kernelspec": {
   "display_name": "Python 3.13.0 ('venv': venv)",
   "language": "python",
   "name": "python3"
  },
  "language_info": {
   "codemirror_mode": {
    "name": "ipython",
    "version": 3
   },
   "file_extension": ".py",
   "mimetype": "text/x-python",
   "name": "python",
   "nbconvert_exporter": "python",
   "pygments_lexer": "ipython3",
   "version": "3.13.0"
  },
  "orig_nbformat": 4
 },
 "nbformat": 4,
 "nbformat_minor": 2
}
