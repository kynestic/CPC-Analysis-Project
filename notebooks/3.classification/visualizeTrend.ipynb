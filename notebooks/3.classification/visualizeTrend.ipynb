{
 "cells": [
  {
   "cell_type": "markdown",
   "metadata": {},
   "source": [
    "Group data"
   ]
  },
  {
   "cell_type": "code",
   "execution_count": null,
   "metadata": {},
   "outputs": [],
   "source": [
    "import pandas as pd\n",
    "import numpy as np\n",
    "import matplotlib.pyplot as plt\n",
    "\n",
    "# Load the datasets\n",
    "df1 = pd.read_csv(r'D:\\CODING\\Project\\NVIDIA-Stock-prediction\\data\\synthesis\\data.csv')\n",
    "df2 = pd.read_csv(r'D:\\CODING\\Project\\NVIDIA-Stock-prediction\\data\\synthesis\\classification\\BERT_EmbeddingText_classification.csv')\n",
    "\n",
    "# Merge the DataFrames on 'keyword' and group by 'date' and 'Cluster'\n",
    "df = pd.merge(df1, df2, left_on='keyword', right_on='keyword', how='inner').groupby(['date', 'Cluster']).agg({\n",
    "    'cpc': np.mean,\n",
    "    'keyword': list  # Keeping keyword as a list, but not used for plotting\n",
    "}).reset_index()\n",
    "\n",
    "# Drop 'keyword' column since it's not needed for the plot\n",
    "df = df.drop('keyword', axis=1)\n",
    "\n",
    "# Ensure the date is in datetime format for correct plotting\n",
    "df['date'] = pd.to_datetime(df['date'])\n",
    "\n",
    "# Pivot the dataframe to get CPC values for each cluster\n",
    "df_pivot = df.pivot_table(index='date', columns='Cluster', values='cpc', aggfunc=np.mean)\n",
    "\n",
    "# Plotting the data\n",
    "plt.figure(figsize=(24, 8))\n",
    "\n",
    "# Plot the CPC values for each cluster over time\n",
    "for cluster in df_pivot.columns:\n",
    "    plt.plot(df_pivot.index, df_pivot[cluster], label=f'Cluster {cluster}')\n",
    "\n",
    "# Formatting the plot\n",
    "plt.xticks(rotation=45)\n",
    "plt.title('CPC Trends by Cluster Over Time')\n",
    "plt.xlabel('Date')\n",
    "plt.ylabel('Average CPC')\n",
    "plt.legend(title='Cluster')\n",
    "plt.show()\n"
   ]
  }
 ],
 "metadata": {
  "interpreter": {
   "hash": "0e6536f6d60cc0148044e0a23b751cf035e0a5fe268eecbff9754a098f69af6c"
  },
  "kernelspec": {
   "display_name": "Python 3.13.0 ('venv': venv)",
   "language": "python",
   "name": "python3"
  },
  "language_info": {
   "codemirror_mode": {
    "name": "ipython",
    "version": 3
   },
   "file_extension": ".py",
   "mimetype": "text/x-python",
   "name": "python",
   "nbconvert_exporter": "python",
   "pygments_lexer": "ipython3",
   "version": "3.13.0"
  },
  "orig_nbformat": 4
 },
 "nbformat": 4,
 "nbformat_minor": 2
}
