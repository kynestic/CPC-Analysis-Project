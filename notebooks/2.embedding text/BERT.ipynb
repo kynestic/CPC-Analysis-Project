{
 "cells": [
  {
   "cell_type": "code",
   "execution_count": 5,
   "metadata": {},
   "outputs": [],
   "source": [
    "import pandas as pd\n",
    "from transformers import BertTokenizer, BertModel\n",
    "import torch\n",
    "\n",
    "# Đọc tệp CSV\n",
    "df = pd.read_csv(\"D:/code-python/CPC/NVIDIA-Stock-prediction/data/processed/stock_news_price_after.csv\")\n",
    "\n",
    "# Lấy dữ liệu từ cột 'events'\n",
    "events = df['events'].tolist()"
   ]
  },
  {
   "cell_type": "code",
   "execution_count": 15,
   "metadata": {},
   "outputs": [],
   "source": [
    "# Tải mô hình và tokenizer của BERT\n",
    "tokenizer = BertTokenizer.from_pretrained('bert-base-uncased')\n",
    "model = BertModel.from_pretrained('bert-base-uncased')\n"
   ]
  },
  {
   "cell_type": "code",
   "execution_count": 24,
   "metadata": {},
   "outputs": [],
   "source": [
    "# Tokenize và embedding một số câu từ cột 'events'\n",
    "tokenized = tokenizer(events[:5], padding=True, truncation=True, return_tensors='pt')\n",
    "\n",
    "# Tạo embedding từ mô hình BERT\n",
    "with torch.no_grad():\n",
    "    embeddings = model(**tokenized)\n",
    "\n",
    "# Lấy embedding của lớp đầu ra cuối cùng (last hidden state)\n",
    "last_hidden_states = embeddings.last_hidden_state"
   ]
  }
 ],
 "metadata": {
  "kernelspec": {
   "display_name": "test-env",
   "language": "python",
   "name": "python3"
  },
  "language_info": {
   "codemirror_mode": {
    "name": "ipython",
    "version": 3
   },
   "file_extension": ".py",
   "mimetype": "text/x-python",
   "name": "python",
   "nbconvert_exporter": "python",
   "pygments_lexer": "ipython3",
   "version": "3.8.19"
  }
 },
 "nbformat": 4,
 "nbformat_minor": 2
}
