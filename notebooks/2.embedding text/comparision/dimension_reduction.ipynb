{
 "cells": [
  {
   "cell_type": "code",
   "execution_count": 2,
   "metadata": {},
   "outputs": [
    {
     "ename": "KeyboardInterrupt",
     "evalue": "",
     "output_type": "error",
     "traceback": [
      "\u001b[1;31m---------------------------------------------------------------------------\u001b[0m",
      "\u001b[1;31mKeyboardInterrupt\u001b[0m                         Traceback (most recent call last)",
      "Cell \u001b[1;32mIn[2], line 8\u001b[0m\n\u001b[0;32m      6\u001b[0m df \u001b[38;5;241m=\u001b[39m df\u001b[38;5;241m.\u001b[39mdrop(\u001b[38;5;124m'\u001b[39m\u001b[38;5;124mtimestamp\u001b[39m\u001b[38;5;124m'\u001b[39m, axis \u001b[38;5;241m=\u001b[39m \u001b[38;5;241m1\u001b[39m)\n\u001b[0;32m      7\u001b[0m tsne \u001b[38;5;241m=\u001b[39m TSNE(n_components\u001b[38;5;241m=\u001b[39m\u001b[38;5;241m2\u001b[39m, random_state\u001b[38;5;241m=\u001b[39m\u001b[38;5;241m42\u001b[39m)\n\u001b[1;32m----> 8\u001b[0m dimension_reduction \u001b[38;5;241m=\u001b[39m \u001b[43mtsne\u001b[49m\u001b[38;5;241;43m.\u001b[39;49m\u001b[43mfit_transform\u001b[49m\u001b[43m(\u001b[49m\u001b[43mdf\u001b[49m\u001b[43m)\u001b[49m\n\u001b[0;32m     10\u001b[0m res \u001b[38;5;241m=\u001b[39m pd\u001b[38;5;241m.\u001b[39mDataFrame(dimension_reduction)\n\u001b[0;32m     12\u001b[0m res\u001b[38;5;241m.\u001b[39mto_csv(\u001b[38;5;124mr\u001b[39m\u001b[38;5;124m'\u001b[39m\u001b[38;5;124mD:\u001b[39m\u001b[38;5;124m\\\u001b[39m\u001b[38;5;124mCODING\u001b[39m\u001b[38;5;124m\\\u001b[39m\u001b[38;5;124mProject\u001b[39m\u001b[38;5;124m\\\u001b[39m\u001b[38;5;124mNVIDIA Stock prediction\u001b[39m\u001b[38;5;124m\\\u001b[39m\u001b[38;5;124mdata\u001b[39m\u001b[38;5;124m\\\u001b[39m\u001b[38;5;124membedding_text\u001b[39m\u001b[38;5;124m\\\u001b[39m\u001b[38;5;124mdimension reduction\u001b[39m\u001b[38;5;124m\\\u001b[39m\u001b[38;5;124mT5_EmbeddingText_reduction.csv\u001b[39m\u001b[38;5;124m'\u001b[39m, index \u001b[38;5;241m=\u001b[39m \u001b[38;5;28;01mFalse\u001b[39;00m)\n",
      "File \u001b[1;32md:\\CODING\\Project\\NVIDIA Stock prediction\\venv\\Lib\\site-packages\\sklearn\\utils\\_set_output.py:316\u001b[0m, in \u001b[0;36m_wrap_method_output.<locals>.wrapped\u001b[1;34m(self, X, *args, **kwargs)\u001b[0m\n\u001b[0;32m    <a href='file:///d%3A/CODING/Project/NVIDIA%20Stock%20prediction/venv/Lib/site-packages/sklearn/utils/_set_output.py?line=313'>314</a>\u001b[0m \u001b[39m@wraps\u001b[39m(f)\n\u001b[0;32m    <a href='file:///d%3A/CODING/Project/NVIDIA%20Stock%20prediction/venv/Lib/site-packages/sklearn/utils/_set_output.py?line=314'>315</a>\u001b[0m \u001b[39mdef\u001b[39;00m \u001b[39mwrapped\u001b[39m(\u001b[39mself\u001b[39m, X, \u001b[39m*\u001b[39margs, \u001b[39m*\u001b[39m\u001b[39m*\u001b[39mkwargs):\n\u001b[1;32m--> <a href='file:///d%3A/CODING/Project/NVIDIA%20Stock%20prediction/venv/Lib/site-packages/sklearn/utils/_set_output.py?line=315'>316</a>\u001b[0m     data_to_wrap \u001b[39m=\u001b[39m f(\u001b[39mself\u001b[39;49m, X, \u001b[39m*\u001b[39;49margs, \u001b[39m*\u001b[39;49m\u001b[39m*\u001b[39;49mkwargs)\n\u001b[0;32m    <a href='file:///d%3A/CODING/Project/NVIDIA%20Stock%20prediction/venv/Lib/site-packages/sklearn/utils/_set_output.py?line=316'>317</a>\u001b[0m     \u001b[39mif\u001b[39;00m \u001b[39misinstance\u001b[39m(data_to_wrap, \u001b[39mtuple\u001b[39m):\n\u001b[0;32m    <a href='file:///d%3A/CODING/Project/NVIDIA%20Stock%20prediction/venv/Lib/site-packages/sklearn/utils/_set_output.py?line=317'>318</a>\u001b[0m         \u001b[39m# only wrap the first output for cross decomposition\u001b[39;00m\n\u001b[0;32m    <a href='file:///d%3A/CODING/Project/NVIDIA%20Stock%20prediction/venv/Lib/site-packages/sklearn/utils/_set_output.py?line=318'>319</a>\u001b[0m         return_tuple \u001b[39m=\u001b[39m (\n\u001b[0;32m    <a href='file:///d%3A/CODING/Project/NVIDIA%20Stock%20prediction/venv/Lib/site-packages/sklearn/utils/_set_output.py?line=319'>320</a>\u001b[0m             _wrap_data_with_container(method, data_to_wrap[\u001b[39m0\u001b[39m], X, \u001b[39mself\u001b[39m),\n\u001b[0;32m    <a href='file:///d%3A/CODING/Project/NVIDIA%20Stock%20prediction/venv/Lib/site-packages/sklearn/utils/_set_output.py?line=320'>321</a>\u001b[0m             \u001b[39m*\u001b[39mdata_to_wrap[\u001b[39m1\u001b[39m:],\n\u001b[0;32m    <a href='file:///d%3A/CODING/Project/NVIDIA%20Stock%20prediction/venv/Lib/site-packages/sklearn/utils/_set_output.py?line=321'>322</a>\u001b[0m         )\n",
      "File \u001b[1;32md:\\CODING\\Project\\NVIDIA Stock prediction\\venv\\Lib\\site-packages\\sklearn\\base.py:1473\u001b[0m, in \u001b[0;36m_fit_context.<locals>.decorator.<locals>.wrapper\u001b[1;34m(estimator, *args, **kwargs)\u001b[0m\n\u001b[0;32m   <a href='file:///d%3A/CODING/Project/NVIDIA%20Stock%20prediction/venv/Lib/site-packages/sklearn/base.py?line=1465'>1466</a>\u001b[0m     estimator\u001b[39m.\u001b[39m_validate_params()\n\u001b[0;32m   <a href='file:///d%3A/CODING/Project/NVIDIA%20Stock%20prediction/venv/Lib/site-packages/sklearn/base.py?line=1467'>1468</a>\u001b[0m \u001b[39mwith\u001b[39;00m config_context(\n\u001b[0;32m   <a href='file:///d%3A/CODING/Project/NVIDIA%20Stock%20prediction/venv/Lib/site-packages/sklearn/base.py?line=1468'>1469</a>\u001b[0m     skip_parameter_validation\u001b[39m=\u001b[39m(\n\u001b[0;32m   <a href='file:///d%3A/CODING/Project/NVIDIA%20Stock%20prediction/venv/Lib/site-packages/sklearn/base.py?line=1469'>1470</a>\u001b[0m         prefer_skip_nested_validation \u001b[39mor\u001b[39;00m global_skip_validation\n\u001b[0;32m   <a href='file:///d%3A/CODING/Project/NVIDIA%20Stock%20prediction/venv/Lib/site-packages/sklearn/base.py?line=1470'>1471</a>\u001b[0m     )\n\u001b[0;32m   <a href='file:///d%3A/CODING/Project/NVIDIA%20Stock%20prediction/venv/Lib/site-packages/sklearn/base.py?line=1471'>1472</a>\u001b[0m ):\n\u001b[1;32m-> <a href='file:///d%3A/CODING/Project/NVIDIA%20Stock%20prediction/venv/Lib/site-packages/sklearn/base.py?line=1472'>1473</a>\u001b[0m     \u001b[39mreturn\u001b[39;00m fit_method(estimator, \u001b[39m*\u001b[39;49margs, \u001b[39m*\u001b[39;49m\u001b[39m*\u001b[39;49mkwargs)\n",
      "File \u001b[1;32md:\\CODING\\Project\\NVIDIA Stock prediction\\venv\\Lib\\site-packages\\sklearn\\manifold\\_t_sne.py:1176\u001b[0m, in \u001b[0;36mTSNE.fit_transform\u001b[1;34m(self, X, y)\u001b[0m\n\u001b[0;32m   <a href='file:///d%3A/CODING/Project/NVIDIA%20Stock%20prediction/venv/Lib/site-packages/sklearn/manifold/_t_sne.py?line=1172'>1173</a>\u001b[0m     \u001b[39mself\u001b[39m\u001b[39m.\u001b[39m_max_iter \u001b[39m=\u001b[39m \u001b[39mself\u001b[39m\u001b[39m.\u001b[39mmax_iter\n\u001b[0;32m   <a href='file:///d%3A/CODING/Project/NVIDIA%20Stock%20prediction/venv/Lib/site-packages/sklearn/manifold/_t_sne.py?line=1174'>1175</a>\u001b[0m \u001b[39mself\u001b[39m\u001b[39m.\u001b[39m_check_params_vs_input(X)\n\u001b[1;32m-> <a href='file:///d%3A/CODING/Project/NVIDIA%20Stock%20prediction/venv/Lib/site-packages/sklearn/manifold/_t_sne.py?line=1175'>1176</a>\u001b[0m embedding \u001b[39m=\u001b[39m \u001b[39mself\u001b[39;49m\u001b[39m.\u001b[39;49m_fit(X)\n\u001b[0;32m   <a href='file:///d%3A/CODING/Project/NVIDIA%20Stock%20prediction/venv/Lib/site-packages/sklearn/manifold/_t_sne.py?line=1176'>1177</a>\u001b[0m \u001b[39mself\u001b[39m\u001b[39m.\u001b[39membedding_ \u001b[39m=\u001b[39m embedding\n\u001b[0;32m   <a href='file:///d%3A/CODING/Project/NVIDIA%20Stock%20prediction/venv/Lib/site-packages/sklearn/manifold/_t_sne.py?line=1177'>1178</a>\u001b[0m \u001b[39mreturn\u001b[39;00m \u001b[39mself\u001b[39m\u001b[39m.\u001b[39membedding_\n",
      "File \u001b[1;32md:\\CODING\\Project\\NVIDIA Stock prediction\\venv\\Lib\\site-packages\\sklearn\\manifold\\_t_sne.py:1044\u001b[0m, in \u001b[0;36mTSNE._fit\u001b[1;34m(self, X, skip_num_points)\u001b[0m\n\u001b[0;32m   <a href='file:///d%3A/CODING/Project/NVIDIA%20Stock%20prediction/venv/Lib/site-packages/sklearn/manifold/_t_sne.py?line=1037'>1038</a>\u001b[0m \u001b[39m# Degrees of freedom of the Student's t-distribution. The suggestion\u001b[39;00m\n\u001b[0;32m   <a href='file:///d%3A/CODING/Project/NVIDIA%20Stock%20prediction/venv/Lib/site-packages/sklearn/manifold/_t_sne.py?line=1038'>1039</a>\u001b[0m \u001b[39m# degrees_of_freedom = n_components - 1 comes from\u001b[39;00m\n\u001b[0;32m   <a href='file:///d%3A/CODING/Project/NVIDIA%20Stock%20prediction/venv/Lib/site-packages/sklearn/manifold/_t_sne.py?line=1039'>1040</a>\u001b[0m \u001b[39m# \"Learning a Parametric Embedding by Preserving Local Structure\"\u001b[39;00m\n\u001b[0;32m   <a href='file:///d%3A/CODING/Project/NVIDIA%20Stock%20prediction/venv/Lib/site-packages/sklearn/manifold/_t_sne.py?line=1040'>1041</a>\u001b[0m \u001b[39m# Laurens van der Maaten, 2009.\u001b[39;00m\n\u001b[0;32m   <a href='file:///d%3A/CODING/Project/NVIDIA%20Stock%20prediction/venv/Lib/site-packages/sklearn/manifold/_t_sne.py?line=1041'>1042</a>\u001b[0m degrees_of_freedom \u001b[39m=\u001b[39m \u001b[39mmax\u001b[39m(\u001b[39mself\u001b[39m\u001b[39m.\u001b[39mn_components \u001b[39m-\u001b[39m \u001b[39m1\u001b[39m, \u001b[39m1\u001b[39m)\n\u001b[1;32m-> <a href='file:///d%3A/CODING/Project/NVIDIA%20Stock%20prediction/venv/Lib/site-packages/sklearn/manifold/_t_sne.py?line=1043'>1044</a>\u001b[0m \u001b[39mreturn\u001b[39;00m \u001b[39mself\u001b[39;49m\u001b[39m.\u001b[39;49m_tsne(\n\u001b[0;32m   <a href='file:///d%3A/CODING/Project/NVIDIA%20Stock%20prediction/venv/Lib/site-packages/sklearn/manifold/_t_sne.py?line=1044'>1045</a>\u001b[0m     P,\n\u001b[0;32m   <a href='file:///d%3A/CODING/Project/NVIDIA%20Stock%20prediction/venv/Lib/site-packages/sklearn/manifold/_t_sne.py?line=1045'>1046</a>\u001b[0m     degrees_of_freedom,\n\u001b[0;32m   <a href='file:///d%3A/CODING/Project/NVIDIA%20Stock%20prediction/venv/Lib/site-packages/sklearn/manifold/_t_sne.py?line=1046'>1047</a>\u001b[0m     n_samples,\n\u001b[0;32m   <a href='file:///d%3A/CODING/Project/NVIDIA%20Stock%20prediction/venv/Lib/site-packages/sklearn/manifold/_t_sne.py?line=1047'>1048</a>\u001b[0m     X_embedded\u001b[39m=\u001b[39;49mX_embedded,\n\u001b[0;32m   <a href='file:///d%3A/CODING/Project/NVIDIA%20Stock%20prediction/venv/Lib/site-packages/sklearn/manifold/_t_sne.py?line=1048'>1049</a>\u001b[0m     neighbors\u001b[39m=\u001b[39;49mneighbors_nn,\n\u001b[0;32m   <a href='file:///d%3A/CODING/Project/NVIDIA%20Stock%20prediction/venv/Lib/site-packages/sklearn/manifold/_t_sne.py?line=1049'>1050</a>\u001b[0m     skip_num_points\u001b[39m=\u001b[39;49mskip_num_points,\n\u001b[0;32m   <a href='file:///d%3A/CODING/Project/NVIDIA%20Stock%20prediction/venv/Lib/site-packages/sklearn/manifold/_t_sne.py?line=1050'>1051</a>\u001b[0m )\n",
      "File \u001b[1;32md:\\CODING\\Project\\NVIDIA Stock prediction\\venv\\Lib\\site-packages\\sklearn\\manifold\\_t_sne.py:1112\u001b[0m, in \u001b[0;36mTSNE._tsne\u001b[1;34m(self, P, degrees_of_freedom, n_samples, X_embedded, neighbors, skip_num_points)\u001b[0m\n\u001b[0;32m   <a href='file:///d%3A/CODING/Project/NVIDIA%20Stock%20prediction/venv/Lib/site-packages/sklearn/manifold/_t_sne.py?line=1109'>1110</a>\u001b[0m     opt_args[\u001b[39m\"\u001b[39m\u001b[39mmomentum\u001b[39m\u001b[39m\"\u001b[39m] \u001b[39m=\u001b[39m \u001b[39m0.8\u001b[39m\n\u001b[0;32m   <a href='file:///d%3A/CODING/Project/NVIDIA%20Stock%20prediction/venv/Lib/site-packages/sklearn/manifold/_t_sne.py?line=1110'>1111</a>\u001b[0m     opt_args[\u001b[39m\"\u001b[39m\u001b[39mn_iter_without_progress\u001b[39m\u001b[39m\"\u001b[39m] \u001b[39m=\u001b[39m \u001b[39mself\u001b[39m\u001b[39m.\u001b[39mn_iter_without_progress\n\u001b[1;32m-> <a href='file:///d%3A/CODING/Project/NVIDIA%20Stock%20prediction/venv/Lib/site-packages/sklearn/manifold/_t_sne.py?line=1111'>1112</a>\u001b[0m     params, kl_divergence, it \u001b[39m=\u001b[39m _gradient_descent(obj_func, params, \u001b[39m*\u001b[39;49m\u001b[39m*\u001b[39;49mopt_args)\n\u001b[0;32m   <a href='file:///d%3A/CODING/Project/NVIDIA%20Stock%20prediction/venv/Lib/site-packages/sklearn/manifold/_t_sne.py?line=1113'>1114</a>\u001b[0m \u001b[39m# Save the final number of iterations\u001b[39;00m\n\u001b[0;32m   <a href='file:///d%3A/CODING/Project/NVIDIA%20Stock%20prediction/venv/Lib/site-packages/sklearn/manifold/_t_sne.py?line=1114'>1115</a>\u001b[0m \u001b[39mself\u001b[39m\u001b[39m.\u001b[39mn_iter_ \u001b[39m=\u001b[39m it\n",
      "File \u001b[1;32md:\\CODING\\Project\\NVIDIA Stock prediction\\venv\\Lib\\site-packages\\sklearn\\manifold\\_t_sne.py:403\u001b[0m, in \u001b[0;36m_gradient_descent\u001b[1;34m(objective, p0, it, max_iter, n_iter_check, n_iter_without_progress, momentum, learning_rate, min_gain, min_grad_norm, verbose, args, kwargs)\u001b[0m\n\u001b[0;32m    <a href='file:///d%3A/CODING/Project/NVIDIA%20Stock%20prediction/venv/Lib/site-packages/sklearn/manifold/_t_sne.py?line=399'>400</a>\u001b[0m \u001b[39m# only compute the error when needed\u001b[39;00m\n\u001b[0;32m    <a href='file:///d%3A/CODING/Project/NVIDIA%20Stock%20prediction/venv/Lib/site-packages/sklearn/manifold/_t_sne.py?line=400'>401</a>\u001b[0m kwargs[\u001b[39m\"\u001b[39m\u001b[39mcompute_error\u001b[39m\u001b[39m\"\u001b[39m] \u001b[39m=\u001b[39m check_convergence \u001b[39mor\u001b[39;00m i \u001b[39m==\u001b[39m max_iter \u001b[39m-\u001b[39m \u001b[39m1\u001b[39m\n\u001b[1;32m--> <a href='file:///d%3A/CODING/Project/NVIDIA%20Stock%20prediction/venv/Lib/site-packages/sklearn/manifold/_t_sne.py?line=402'>403</a>\u001b[0m error, grad \u001b[39m=\u001b[39m objective(p, \u001b[39m*\u001b[39;49margs, \u001b[39m*\u001b[39;49m\u001b[39m*\u001b[39;49mkwargs)\n\u001b[0;32m    <a href='file:///d%3A/CODING/Project/NVIDIA%20Stock%20prediction/venv/Lib/site-packages/sklearn/manifold/_t_sne.py?line=404'>405</a>\u001b[0m inc \u001b[39m=\u001b[39m update \u001b[39m*\u001b[39m grad \u001b[39m<\u001b[39m \u001b[39m0.0\u001b[39m\n\u001b[0;32m    <a href='file:///d%3A/CODING/Project/NVIDIA%20Stock%20prediction/venv/Lib/site-packages/sklearn/manifold/_t_sne.py?line=405'>406</a>\u001b[0m dec \u001b[39m=\u001b[39m np\u001b[39m.\u001b[39minvert(inc)\n",
      "File \u001b[1;32md:\\CODING\\Project\\NVIDIA Stock prediction\\venv\\Lib\\site-packages\\sklearn\\manifold\\_t_sne.py:284\u001b[0m, in \u001b[0;36m_kl_divergence_bh\u001b[1;34m(params, P, degrees_of_freedom, n_samples, n_components, angle, skip_num_points, verbose, compute_error, num_threads)\u001b[0m\n\u001b[0;32m    <a href='file:///d%3A/CODING/Project/NVIDIA%20Stock%20prediction/venv/Lib/site-packages/sklearn/manifold/_t_sne.py?line=280'>281</a>\u001b[0m indptr \u001b[39m=\u001b[39m P\u001b[39m.\u001b[39mindptr\u001b[39m.\u001b[39mastype(np\u001b[39m.\u001b[39mint64, copy\u001b[39m=\u001b[39m\u001b[39mFalse\u001b[39;00m)\n\u001b[0;32m    <a href='file:///d%3A/CODING/Project/NVIDIA%20Stock%20prediction/venv/Lib/site-packages/sklearn/manifold/_t_sne.py?line=282'>283</a>\u001b[0m grad \u001b[39m=\u001b[39m np\u001b[39m.\u001b[39mzeros(X_embedded\u001b[39m.\u001b[39mshape, dtype\u001b[39m=\u001b[39mnp\u001b[39m.\u001b[39mfloat32)\n\u001b[1;32m--> <a href='file:///d%3A/CODING/Project/NVIDIA%20Stock%20prediction/venv/Lib/site-packages/sklearn/manifold/_t_sne.py?line=283'>284</a>\u001b[0m error \u001b[39m=\u001b[39m _barnes_hut_tsne\u001b[39m.\u001b[39;49mgradient(\n\u001b[0;32m    <a href='file:///d%3A/CODING/Project/NVIDIA%20Stock%20prediction/venv/Lib/site-packages/sklearn/manifold/_t_sne.py?line=284'>285</a>\u001b[0m     val_P,\n\u001b[0;32m    <a href='file:///d%3A/CODING/Project/NVIDIA%20Stock%20prediction/venv/Lib/site-packages/sklearn/manifold/_t_sne.py?line=285'>286</a>\u001b[0m     X_embedded,\n\u001b[0;32m    <a href='file:///d%3A/CODING/Project/NVIDIA%20Stock%20prediction/venv/Lib/site-packages/sklearn/manifold/_t_sne.py?line=286'>287</a>\u001b[0m     neighbors,\n\u001b[0;32m    <a href='file:///d%3A/CODING/Project/NVIDIA%20Stock%20prediction/venv/Lib/site-packages/sklearn/manifold/_t_sne.py?line=287'>288</a>\u001b[0m     indptr,\n\u001b[0;32m    <a href='file:///d%3A/CODING/Project/NVIDIA%20Stock%20prediction/venv/Lib/site-packages/sklearn/manifold/_t_sne.py?line=288'>289</a>\u001b[0m     grad,\n\u001b[0;32m    <a href='file:///d%3A/CODING/Project/NVIDIA%20Stock%20prediction/venv/Lib/site-packages/sklearn/manifold/_t_sne.py?line=289'>290</a>\u001b[0m     angle,\n\u001b[0;32m    <a href='file:///d%3A/CODING/Project/NVIDIA%20Stock%20prediction/venv/Lib/site-packages/sklearn/manifold/_t_sne.py?line=290'>291</a>\u001b[0m     n_components,\n\u001b[0;32m    <a href='file:///d%3A/CODING/Project/NVIDIA%20Stock%20prediction/venv/Lib/site-packages/sklearn/manifold/_t_sne.py?line=291'>292</a>\u001b[0m     verbose,\n\u001b[0;32m    <a href='file:///d%3A/CODING/Project/NVIDIA%20Stock%20prediction/venv/Lib/site-packages/sklearn/manifold/_t_sne.py?line=292'>293</a>\u001b[0m     dof\u001b[39m=\u001b[39;49mdegrees_of_freedom,\n\u001b[0;32m    <a href='file:///d%3A/CODING/Project/NVIDIA%20Stock%20prediction/venv/Lib/site-packages/sklearn/manifold/_t_sne.py?line=293'>294</a>\u001b[0m     compute_error\u001b[39m=\u001b[39;49mcompute_error,\n\u001b[0;32m    <a href='file:///d%3A/CODING/Project/NVIDIA%20Stock%20prediction/venv/Lib/site-packages/sklearn/manifold/_t_sne.py?line=294'>295</a>\u001b[0m     num_threads\u001b[39m=\u001b[39;49mnum_threads,\n\u001b[0;32m    <a href='file:///d%3A/CODING/Project/NVIDIA%20Stock%20prediction/venv/Lib/site-packages/sklearn/manifold/_t_sne.py?line=295'>296</a>\u001b[0m )\n\u001b[0;32m    <a href='file:///d%3A/CODING/Project/NVIDIA%20Stock%20prediction/venv/Lib/site-packages/sklearn/manifold/_t_sne.py?line=296'>297</a>\u001b[0m c \u001b[39m=\u001b[39m \u001b[39m2.0\u001b[39m \u001b[39m*\u001b[39m (degrees_of_freedom \u001b[39m+\u001b[39m \u001b[39m1.0\u001b[39m) \u001b[39m/\u001b[39m degrees_of_freedom\n\u001b[0;32m    <a href='file:///d%3A/CODING/Project/NVIDIA%20Stock%20prediction/venv/Lib/site-packages/sklearn/manifold/_t_sne.py?line=297'>298</a>\u001b[0m grad \u001b[39m=\u001b[39m grad\u001b[39m.\u001b[39mravel()\n",
      "\u001b[1;31mKeyboardInterrupt\u001b[0m: "
     ]
    }
   ],
   "source": [
    "from sklearn.manifold import TSNE\n",
    "import matplotlib.pyplot as plt\n",
    "import pandas as pd\n",
    "\n",
    "df = pd.read_csv(r'T5_EmbeddingText.csv')\n",
    "df = df.drop('timestamp', axis = 1)\n",
    "tsne = TSNE(n_components=2, random_state=42)\n",
    "dimension_reduction = tsne.fit_transform(df)\n",
    "\n",
    "res = pd.DataFrame(dimension_reduction)\n",
    "\n",
    "res.to_csv(r'T5_EmbeddingText_reduction.csv', index = False)"
   ]
  },
  {
   "cell_type": "code",
   "execution_count": null,
   "metadata": {},
   "outputs": [],
   "source": [
    "from sklearn.manifold import TSNE\n",
    "import matplotlib.pyplot as plt\n",
    "import pandas as pd\n",
    "\n",
    "df = pd.read_csv(r'BERT_EmbeddingText.csv')\n",
    "df = df.drop('timestamp', axis = 1)\n",
    "tsne = TSNE(n_components=2, random_state=42)\n",
    "dimension_reduction = tsne.fit_transform(df)\n",
    "\n",
    "res = pd.DataFrame(dimension_reduction)\n",
    "\n",
    "res.to_csv(r'BERT_EmbeddingText_reduction.csv', index = False)"
   ]
  },
  {
   "cell_type": "code",
   "execution_count": null,
   "metadata": {},
   "outputs": [],
   "source": [
    "from sklearn.manifold import TSNE\n",
    "import matplotlib.pyplot as plt\n",
    "import pandas as pd\n",
    "\n",
    "df = pd.read_csv(r'IF-IDF_EmbeddingText.csv')\n",
    "df = df.drop('timestamp', axis = 1)\n",
    "tsne = TSNE(n_components=2, random_state=42)\n",
    "dimension_reduction = tsne.fit_transform(df)\n",
    "\n",
    "res = pd.DataFrame(dimension_reduction)\n",
    "\n",
    "res.to_csv(r'IF-IDF_EmbeddingText_reduction.csv', index = False)"
   ]
  },
  {
   "cell_type": "code",
   "execution_count": null,
   "metadata": {},
   "outputs": [],
   "source": [
    "from sklearn.manifold import TSNE\n",
    "import matplotlib.pyplot as plt\n",
    "import pandas as pd\n",
    "\n",
    "df = pd.read_csv(r'CLIP_EmbeddingText.csv')\n",
    "df = df.drop('timestamp', axis = 1)\n",
    "tsne = TSNE(n_components=2, random_state=42)\n",
    "dimension_reduction = tsne.fit_transform(df)\n",
    "\n",
    "res = pd.DataFrame(dimension_reduction)\n",
    "\n",
    "res.to_csv(r'CLIP_EmbeddingText_reduction.csv', index = False)"
   ]
  }
 ],
 "metadata": {
  "interpreter": {
   "hash": "7e4990a11fdf590a82371ee14757fb33f9dfdebf4a57d7d20417448ac99019b2"
  },
  "kernelspec": {
   "display_name": "Python 3.12.7 ('venv': venv)",
   "language": "python",
   "name": "python3"
  },
  "language_info": {
   "codemirror_mode": {
    "name": "ipython",
    "version": 3
   },
   "file_extension": ".py",
   "mimetype": "text/x-python",
   "name": "python",
   "nbconvert_exporter": "python",
   "pygments_lexer": "ipython3",
   "version": "3.12.7"
  },
  "orig_nbformat": 4
 },
 "nbformat": 4,
 "nbformat_minor": 2
}
