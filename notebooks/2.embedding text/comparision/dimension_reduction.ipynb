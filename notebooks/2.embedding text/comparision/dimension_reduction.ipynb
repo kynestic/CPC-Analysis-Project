{
 "cells": [
  {
   "cell_type": "code",
   "execution_count": null,
   "metadata": {},
   "outputs": [],
   "source": [
    "from sklearn.manifold import TSNE\n",
    "import matplotlib.pyplot as plt\n",
    "import pandas as pd\n",
    "\n",
    "df = pd.read_csv(r'T5_EmbeddingText.csv')\n",
    "df = df.drop('timestamp', axis = 1)\n",
    "tsne = TSNE(n_components=2, random_state=42)\n",
    "dimension_reduction = tsne.fit_transform(df)\n",
    "\n",
    "res = pd.DataFrame(dimension_reduction)\n",
    "\n",
    "res.to_csv(r'T5_EmbeddingText_reduction.csv', index = False)"
   ]
  },
  {
   "cell_type": "code",
   "execution_count": null,
   "metadata": {},
   "outputs": [],
   "source": [
    "from sklearn.manifold import TSNE\n",
    "import matplotlib.pyplot as plt\n",
    "import pandas as pd\n",
    "\n",
    "df = pd.read_csv(r'BERT_EmbeddingText.csv')\n",
    "df = df.drop('timestamp', axis = 1)\n",
    "tsne = TSNE(n_components=2, random_state=42)\n",
    "dimension_reduction = tsne.fit_transform(df)\n",
    "\n",
    "res = pd.DataFrame(dimension_reduction)\n",
    "\n",
    "res.to_csv(r'BERT_EmbeddingText_reduction.csv', index = False)"
   ]
  },
  {
   "cell_type": "code",
   "execution_count": null,
   "metadata": {},
   "outputs": [],
   "source": [
    "from sklearn.manifold import TSNE\n",
    "import matplotlib.pyplot as plt\n",
    "import pandas as pd\n",
    "\n",
    "df = pd.read_csv(r'IF-IDF_EmbeddingText.csv')\n",
    "df = df.drop('timestamp', axis = 1)\n",
    "tsne = TSNE(n_components=2, random_state=42)\n",
    "dimension_reduction = tsne.fit_transform(df)\n",
    "\n",
    "res = pd.DataFrame(dimension_reduction)\n",
    "\n",
    "res.to_csv(r'IF-IDF_EmbeddingText_reduction.csv', index = False)"
   ]
  },
  {
   "cell_type": "code",
   "execution_count": null,
   "metadata": {},
   "outputs": [],
   "source": [
    "from sklearn.manifold import TSNE\n",
    "import matplotlib.pyplot as plt\n",
    "import pandas as pd\n",
    "\n",
    "df = pd.read_csv(r'CLIP_EmbeddingText.csv')\n",
    "df = df.drop('timestamp', axis = 1)\n",
    "tsne = TSNE(n_components=2, random_state=42)\n",
    "dimension_reduction = tsne.fit_transform(df)\n",
    "\n",
    "res = pd.DataFrame(dimension_reduction)\n",
    "\n",
    "res.to_csv(r'CLIP_EmbeddingText_reduction.csv', index = False)"
   ]
  }
 ],
 "metadata": {
  "interpreter": {
   "hash": "7e4990a11fdf590a82371ee14757fb33f9dfdebf4a57d7d20417448ac99019b2"
  },
  "kernelspec": {
   "display_name": "Python 3.12.7 ('venv': venv)",
   "language": "python",
   "name": "python3"
  },
  "language_info": {
   "codemirror_mode": {
    "name": "ipython",
    "version": 3
   },
   "file_extension": ".py",
   "mimetype": "text/x-python",
   "name": "python",
   "nbconvert_exporter": "python",
   "pygments_lexer": "ipython3",
   "version": "3.12.7"
  },
  "orig_nbformat": 4
 },
 "nbformat": 4,
 "nbformat_minor": 2
}
